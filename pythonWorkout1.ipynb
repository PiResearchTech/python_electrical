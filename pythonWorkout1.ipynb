{
 "cells": [
  {
   "cell_type": "markdown",
   "id": "fc960b3d",
   "metadata": {},
   "source": [
    "# Python For Electrical Workout - I\n",
    "## presented by \"Pi Research Tech\"\n",
    "### www.piresearchtech.com\n"
   ]
  },
  {
   "cell_type": "markdown",
   "id": "2c74003b",
   "metadata": {},
   "source": [
    "<font size=\"+2\"><span style=\"color:red\">1) Loads are Fan = 150 W, pc =150 W, LED = 2 x 20 W. Supply Voltage = 230 V. Find the minimum current requirement of inverter? \n",
    "</span></font>\n",
    "\n",
    "### Hint: \n",
    "#### Imin= TotalPower (P)/Voltage\n"
   ]
  },
  {
   "cell_type": "code",
   "execution_count": 1,
   "id": "3a1feb2f",
   "metadata": {},
   "outputs": [
    {
     "name": "stdout",
     "output_type": "stream",
     "text": [
      "Minimum current requirement for an inverter\n",
      "minimum current requirement of interval: 1.4782608695652173\n"
     ]
    }
   ],
   "source": [
    "print('Minimum current requirement for an inverter')\n",
    "fan = 150\n",
    "pc = 150\n",
    "LED = 40\n",
    "voltage = 230\n",
    "total = fan+pc+LED\n",
    "minimumI = total / voltage\n",
    "print('minimum current requirement of interval:', minimumI)\n"
   ]
  },
  {
   "cell_type": "markdown",
   "id": "56022eae",
   "metadata": {},
   "source": [
    "<font size=\"+2\"><span style=\"color:red\">2) Compute motor Efficiency (All units in SI) \n",
    "Motor torque= 100 \n",
    "Angular speed = 0.8 \n",
    "input Power (Pin) = 100 </span></font>\n",
    "### Hint: \n",
    "#### Pout= torque * Angular Speed \n",
    "#### Efficiency = Pout/Pin \n",
    "    "
   ]
  },
  {
   "cell_type": "code",
   "execution_count": 2,
   "id": "82b8bb7b",
   "metadata": {},
   "outputs": [
    {
     "name": "stdout",
     "output_type": "stream",
     "text": [
      "The efficiency is: 0.8\n"
     ]
    }
   ],
   "source": [
    "torque = 100\n",
    "angularspeed  = 0.8\n",
    "Pin = 100\n",
    "Pout = torque*angularspeed\n",
    "Efficiency = Pout/Pin\n",
    "print('The efficiency is:', Efficiency)"
   ]
  },
  {
   "cell_type": "markdown",
   "id": "4f16089a",
   "metadata": {},
   "source": [
    "<font size=\"+2\"><span style=\"color:red\">3)Two induction motors names like ‘A’, ‘B’. That copper coil has \n",
    "Resistance resA= 30 Ω & resB =400 Ω . Both units have same \n",
    "current values I = 10A. Compute power loss. Which one has \n",
    "high heat? </span></font>\n",
    "\n",
    "### Hint: \n",
    "#### Power loss= I2R \n",
    "#### Heat ∞ Powerloss "
   ]
  },
  {
   "cell_type": "code",
   "execution_count": 3,
   "id": "d960634c",
   "metadata": {},
   "outputs": [
    {
     "name": "stdout",
     "output_type": "stream",
     "text": [
      "3000\n",
      "40000\n"
     ]
    }
   ],
   "source": [
    "A = 30\n",
    "B = 400\n",
    "I = 10\n",
    "powerloss1 = (I**2) * A\n",
    "print(powerloss1)\n",
    "powerloss2 = (I**2) * B\n",
    "print(powerloss2)"
   ]
  },
  {
   "cell_type": "markdown",
   "id": "6e4dc703",
   "metadata": {},
   "source": [
    "<font size=\"+2\"><span style=\"color:red\">4)True Power =120 W \n",
    "Apparent Power =170 VA\n",
    "Find Power-factor theta value in degree?  </span></font>\n",
    "\n",
    "### Hint: \n",
    "#### PowerFactor (Cos (θ)) = True power/ Apparent Power \n",
    "#### θ = cos-1 (value) # radians \n",
    "#### θ = cos-1 (value) * 180/pi #degree "
   ]
  },
  {
   "cell_type": "code",
   "execution_count": 4,
   "id": "8641100a",
   "metadata": {},
   "outputs": [
    {
     "name": "stdout",
     "output_type": "stream",
     "text": [
      "result= 0.787128270656128 in radians\n",
      "result= 45.12200277646593 in degrees\n"
     ]
    }
   ],
   "source": [
    "import math\n",
    "truepower = 120\n",
    "Apparent = 170\n",
    "value = truepower/Apparent\n",
    "print('result=',math.acos(value), 'in radians')\n",
    "degrees = math.acos(value) * (180 / 3.14)\n",
    "print('result=', degrees,'in degrees')"
   ]
  },
  {
   "cell_type": "markdown",
   "id": "69685d1f",
   "metadata": {},
   "source": [
    "![Screenshot]urlimg.PNG"
   ]
  },
  {
   "cell_type": "markdown",
   "id": "42214310",
   "metadata": {},
   "source": [
    "### Question 5 Hint:\n",
    "#### R1 = (V1*R2)/Vout – R2"
   ]
  },
  {
   "cell_type": "code",
   "execution_count": 5,
   "id": "b5e4d9cc",
   "metadata": {},
   "outputs": [
    {
     "name": "stdout",
     "output_type": "stream",
     "text": [
      "4000.0\n",
      "8000.0\n"
     ]
    }
   ],
   "source": [
    "V1 = [9.0, 5.0]\n",
    "Vout = 1.0\n",
    "R2 = 1e3\n",
    "R1max = ((V1[0]*R2)/Vout) - R2\n",
    "R1min = ((V1[1]*R2)/Vout) - R2\n",
    "print(R1min)\n",
    "print(R1max)\n"
   ]
  }
 ],
 "metadata": {
  "kernelspec": {
   "display_name": "Python 3 (ipykernel)",
   "language": "python",
   "name": "python3"
  },
  "language_info": {
   "codemirror_mode": {
    "name": "ipython",
    "version": 3
   },
   "file_extension": ".py",
   "mimetype": "text/x-python",
   "name": "python",
   "nbconvert_exporter": "python",
   "pygments_lexer": "ipython3",
   "version": "3.9.7"
  }
 },
 "nbformat": 4,
 "nbformat_minor": 5
}
